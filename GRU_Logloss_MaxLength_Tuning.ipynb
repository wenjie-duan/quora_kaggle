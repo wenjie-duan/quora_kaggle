{
 "cells": [
  {
   "cell_type": "markdown",
   "metadata": {
    "toc": true
   },
   "source": [
    "<h1>Table of Contents<span class=\"tocSkip\"></span></h1>\n",
    "<div class=\"toc\"><ul class=\"toc-item\"><li><span><a href=\"#Setup-&amp;-Summary\" data-toc-modified-id=\"Setup-&amp;-Summary-1\"><span class=\"toc-item-num\">1&nbsp;&nbsp;</span>Setup &amp; Summary</a></span><ul class=\"toc-item\"><li><span><a href=\"#Setup-my-kaggle-API\" data-toc-modified-id=\"Setup-my-kaggle-API-1.1\"><span class=\"toc-item-num\">1.1&nbsp;&nbsp;</span>Setup my kaggle API</a></span></li><li><span><a href=\"#Download-data-from-Kaggle\" data-toc-modified-id=\"Download-data-from-Kaggle-1.2\"><span class=\"toc-item-num\">1.2&nbsp;&nbsp;</span>Download data from Kaggle</a></span></li></ul></li><li><span><a href=\"#Load-&amp;-Explore-Data\" data-toc-modified-id=\"Load-&amp;-Explore-Data-2\"><span class=\"toc-item-num\">2&nbsp;&nbsp;</span>Load &amp; Explore Data</a></span><ul class=\"toc-item\"><li><span><a href=\"#Load-Data\" data-toc-modified-id=\"Load-Data-2.1\"><span class=\"toc-item-num\">2.1&nbsp;&nbsp;</span>Load Data</a></span></li><li><span><a href=\"#Explore-data\" data-toc-modified-id=\"Explore-data-2.2\"><span class=\"toc-item-num\">2.2&nbsp;&nbsp;</span>Explore data</a></span></li></ul></li><li><span><a href=\"#Benchmark-Model\" data-toc-modified-id=\"Benchmark-Model-3\"><span class=\"toc-item-num\">3&nbsp;&nbsp;</span>Benchmark Model</a></span><ul class=\"toc-item\"><li><span><a href=\"#Submit-to-Kaggle\" data-toc-modified-id=\"Submit-to-Kaggle-3.1\"><span class=\"toc-item-num\">3.1&nbsp;&nbsp;</span>Submit to Kaggle</a></span></li></ul></li><li><span><a href=\"#Process-Data\" data-toc-modified-id=\"Process-Data-4\"><span class=\"toc-item-num\">4&nbsp;&nbsp;</span>Process Data</a></span><ul class=\"toc-item\"><li><span><a href=\"#Clean-dataset\" data-toc-modified-id=\"Clean-dataset-4.1\"><span class=\"toc-item-num\">4.1&nbsp;&nbsp;</span>Clean dataset</a></span></li><li><span><a href=\"#Split-train-and-validation\" data-toc-modified-id=\"Split-train-and-validation-4.2\"><span class=\"toc-item-num\">4.2&nbsp;&nbsp;</span>Split train and validation</a></span></li><li><span><a href=\"#Upsample-minority-for-imbalanced-dataset\" data-toc-modified-id=\"Upsample-minority-for-imbalanced-dataset-4.3\"><span class=\"toc-item-num\">4.3&nbsp;&nbsp;</span>Upsample minority for imbalanced dataset</a></span></li><li><span><a href=\"#Get-vocab2index,-and-prepare-initialize-embedding-with-a-pre-trained-Glove\" data-toc-modified-id=\"Get-vocab2index,-and-prepare-initialize-embedding-with-a-pre-trained-Glove-4.4\"><span class=\"toc-item-num\">4.4&nbsp;&nbsp;</span>Get vocab2index, and prepare initialize embedding with a pre-trained Glove</a></span></li></ul></li><li><span><a href=\"#Dataset\" data-toc-modified-id=\"Dataset-5\"><span class=\"toc-item-num\">5&nbsp;&nbsp;</span>Dataset</a></span><ul class=\"toc-item\"><li><span><a href=\"#Encode-data\" data-toc-modified-id=\"Encode-data-5.1\"><span class=\"toc-item-num\">5.1&nbsp;&nbsp;</span>Encode data</a></span></li><li><span><a href=\"#Dynamic-padding-+-pack_padded_sequence\" data-toc-modified-id=\"Dynamic-padding-+-pack_padded_sequence-5.2\"><span class=\"toc-item-num\">5.2&nbsp;&nbsp;</span>Dynamic padding + pack_padded_sequence</a></span></li></ul></li><li><span><a href=\"#Model\" data-toc-modified-id=\"Model-6\"><span class=\"toc-item-num\">6&nbsp;&nbsp;</span>Model</a></span><ul class=\"toc-item\"><li><span><a href=\"#Implement-model\" data-toc-modified-id=\"Implement-model-6.1\"><span class=\"toc-item-num\">6.1&nbsp;&nbsp;</span>Implement model</a></span></li><li><span><a href=\"#Debug-model\" data-toc-modified-id=\"Debug-model-6.2\"><span class=\"toc-item-num\">6.2&nbsp;&nbsp;</span>Debug model</a></span></li></ul></li><li><span><a href=\"#Training\" data-toc-modified-id=\"Training-7\"><span class=\"toc-item-num\">7&nbsp;&nbsp;</span>Training</a></span><ul class=\"toc-item\"><li><span><a href=\"#Training-functions\" data-toc-modified-id=\"Training-functions-7.1\"><span class=\"toc-item-num\">7.1&nbsp;&nbsp;</span>Training functions</a></span></li><li><span><a href=\"#Explore-learning--rate-with-subsample\" data-toc-modified-id=\"Explore-learning--rate-with-subsample-7.2\"><span class=\"toc-item-num\">7.2&nbsp;&nbsp;</span>Explore learning  rate with subsample</a></span></li><li><span><a href=\"#Finally-training-epochs\" data-toc-modified-id=\"Finally-training-epochs-7.3\"><span class=\"toc-item-num\">7.3&nbsp;&nbsp;</span>Finally training epochs</a></span></li></ul></li><li><span><a href=\"#Predict-and-submit\" data-toc-modified-id=\"Predict-and-submit-8\"><span class=\"toc-item-num\">8&nbsp;&nbsp;</span>Predict and submit</a></span><ul class=\"toc-item\"><li><span><a href=\"#Predict-y_test\" data-toc-modified-id=\"Predict-y_test-8.1\"><span class=\"toc-item-num\">8.1&nbsp;&nbsp;</span>Predict y_test</a></span></li><li><span><a href=\"#Submit-to-Kaggle\" data-toc-modified-id=\"Submit-to-Kaggle-8.2\"><span class=\"toc-item-num\">8.2&nbsp;&nbsp;</span>Submit to Kaggle</a></span></li></ul></li></ul></div>"
   ]
  },
  {
   "cell_type": "markdown",
   "metadata": {},
   "source": [
    "# Setup & Summary"
   ]
  },
  {
   "cell_type": "markdown",
   "metadata": {},
   "source": [
    "## Setup my kaggle API"
   ]
  },
  {
   "cell_type": "code",
   "execution_count": 1,
   "metadata": {},
   "outputs": [],
   "source": [
    "import os\n",
    "os.environ[\"CUDA_VISIBLE_DEVICES\"]=\"1\"\n",
    "os.environ['KAGGLE_USERNAME'] = \"xxx\"\n",
    "os.environ['KAGGLE_KEY'] = \"xxx\""
   ]
  },
  {
   "cell_type": "markdown",
   "metadata": {
    "colab_type": "text",
    "id": "OYsD9XxjbEqJ"
   },
   "source": [
    "## Download data from Kaggle"
   ]
  },
  {
   "cell_type": "markdown",
   "metadata": {
    "colab_type": "text",
    "id": "fofJReyNbcP_"
   },
   "source": [
    "\n",
    "Unzip the training and test datasets into data directory. "
   ]
  },
  {
   "cell_type": "code",
   "execution_count": 2,
   "metadata": {},
   "outputs": [],
   "source": [
    "# !kaggle competitions download -c Quora-Question-Pairs -p data"
   ]
  },
  {
   "cell_type": "code",
   "execution_count": 3,
   "metadata": {},
   "outputs": [],
   "source": [
    "# # Unzip datasets to data directory\n",
    "# !unzip data/Quora-Question-Pairs.zip -d data"
   ]
  },
  {
   "cell_type": "code",
   "execution_count": 4,
   "metadata": {},
   "outputs": [],
   "source": [
    "# # Unzip training and test datasets to data directory\n",
    "# !unzip data/test.csv.zip -d data\n",
    "# !unzip data/train.csv.zip -d data\n",
    "# !unzip data/sample_submission.csv.zip -d data"
   ]
  },
  {
   "cell_type": "code",
   "execution_count": 5,
   "metadata": {},
   "outputs": [
    {
     "name": "stdout",
     "output_type": "stream",
     "text": [
      "data\t\t\t  sample_submission.csv.zip  train.csv\r\n",
      "Quora-Question-Pairs.zip  test.csv\t\t     train.csv.zip\r\n",
      "sample_submission.csv\t  test.csv.zip\r\n"
     ]
    }
   ],
   "source": [
    "! ls data"
   ]
  },
  {
   "cell_type": "markdown",
   "metadata": {
    "colab_type": "text",
    "id": "HBvwpiLXbmGn"
   },
   "source": [
    "# Load & Explore Data"
   ]
  },
  {
   "cell_type": "code",
   "execution_count": 6,
   "metadata": {
    "colab": {},
    "colab_type": "code",
    "id": "N274iDTYbtJG"
   },
   "outputs": [],
   "source": [
    "import numpy as np\n",
    "import pandas as pd\n",
    "import re\n",
    "from collections import defaultdict\n",
    "from pathlib import Path\n",
    "import matplotlib.pyplot as plt\n",
    "import seaborn as sns\n",
    "from sklearn.model_selection import train_test_split\n",
    "from sklearn.utils import resample\n",
    "from tqdm.notebook import tqdm\n",
    "%matplotlib inline\n",
    "\n",
    "import torch\n",
    "from torch.utils.data import Dataset, DataLoader\n",
    "from torch.utils.data.sampler import SubsetRandomSampler\n",
    "from torchvision import transforms, utils\n",
    "from torch.nn.utils.rnn import pack_padded_sequence, pad_packed_sequence \n",
    "from torch import nn, optim\n",
    "import torch.nn.functional as F\n",
    "\n",
    "import warnings\n",
    "warnings.filterwarnings('ignore')"
   ]
  },
  {
   "cell_type": "markdown",
   "metadata": {},
   "source": [
    "## Load Data"
   ]
  },
  {
   "cell_type": "code",
   "execution_count": 7,
   "metadata": {
    "colab": {},
    "colab_type": "code",
    "id": "0FWFWzG0TmfL"
   },
   "outputs": [],
   "source": [
    "data_dir = Path('./data')\n",
    "df_train = pd.read_csv(data_dir / 'train.csv')"
   ]
  },
  {
   "cell_type": "code",
   "execution_count": 8,
   "metadata": {
    "colab": {
     "base_uri": "https://localhost:8080/",
     "height": 1178
    },
    "colab_type": "code",
    "id": "rBZTyLcX4XgI",
    "outputId": "7b578c8e-a94c-424f-a4ba-7c2605704dbc"
   },
   "outputs": [
    {
     "data": {
      "text/html": [
       "<div>\n",
       "<style scoped>\n",
       "    .dataframe tbody tr th:only-of-type {\n",
       "        vertical-align: middle;\n",
       "    }\n",
       "\n",
       "    .dataframe tbody tr th {\n",
       "        vertical-align: top;\n",
       "    }\n",
       "\n",
       "    .dataframe thead th {\n",
       "        text-align: right;\n",
       "    }\n",
       "</style>\n",
       "<table border=\"1\" class=\"dataframe\">\n",
       "  <thead>\n",
       "    <tr style=\"text-align: right;\">\n",
       "      <th></th>\n",
       "      <th>id</th>\n",
       "      <th>qid1</th>\n",
       "      <th>qid2</th>\n",
       "      <th>question1</th>\n",
       "      <th>question2</th>\n",
       "      <th>is_duplicate</th>\n",
       "    </tr>\n",
       "  </thead>\n",
       "  <tbody>\n",
       "    <tr>\n",
       "      <th>0</th>\n",
       "      <td>0</td>\n",
       "      <td>1</td>\n",
       "      <td>2</td>\n",
       "      <td>What is the step by step guide to invest in sh...</td>\n",
       "      <td>What is the step by step guide to invest in sh...</td>\n",
       "      <td>0</td>\n",
       "    </tr>\n",
       "    <tr>\n",
       "      <th>1</th>\n",
       "      <td>1</td>\n",
       "      <td>3</td>\n",
       "      <td>4</td>\n",
       "      <td>What is the story of Kohinoor (Koh-i-Noor) Dia...</td>\n",
       "      <td>What would happen if the Indian government sto...</td>\n",
       "      <td>0</td>\n",
       "    </tr>\n",
       "    <tr>\n",
       "      <th>2</th>\n",
       "      <td>2</td>\n",
       "      <td>5</td>\n",
       "      <td>6</td>\n",
       "      <td>How can I increase the speed of my internet co...</td>\n",
       "      <td>How can Internet speed be increased by hacking...</td>\n",
       "      <td>0</td>\n",
       "    </tr>\n",
       "    <tr>\n",
       "      <th>3</th>\n",
       "      <td>3</td>\n",
       "      <td>7</td>\n",
       "      <td>8</td>\n",
       "      <td>Why am I mentally very lonely? How can I solve...</td>\n",
       "      <td>Find the remainder when [math]23^{24}[/math] i...</td>\n",
       "      <td>0</td>\n",
       "    </tr>\n",
       "    <tr>\n",
       "      <th>4</th>\n",
       "      <td>4</td>\n",
       "      <td>9</td>\n",
       "      <td>10</td>\n",
       "      <td>Which one dissolve in water quikly sugar, salt...</td>\n",
       "      <td>Which fish would survive in salt water?</td>\n",
       "      <td>0</td>\n",
       "    </tr>\n",
       "  </tbody>\n",
       "</table>\n",
       "</div>"
      ],
      "text/plain": [
       "   id  qid1  qid2                                          question1  \\\n",
       "0   0     1     2  What is the step by step guide to invest in sh...   \n",
       "1   1     3     4  What is the story of Kohinoor (Koh-i-Noor) Dia...   \n",
       "2   2     5     6  How can I increase the speed of my internet co...   \n",
       "3   3     7     8  Why am I mentally very lonely? How can I solve...   \n",
       "4   4     9    10  Which one dissolve in water quikly sugar, salt...   \n",
       "\n",
       "                                           question2  is_duplicate  \n",
       "0  What is the step by step guide to invest in sh...             0  \n",
       "1  What would happen if the Indian government sto...             0  \n",
       "2  How can Internet speed be increased by hacking...             0  \n",
       "3  Find the remainder when [math]23^{24}[/math] i...             0  \n",
       "4            Which fish would survive in salt water?             0  "
      ]
     },
     "execution_count": 8,
     "metadata": {},
     "output_type": "execute_result"
    }
   ],
   "source": [
    "# View train data\n",
    "df_train.head()"
   ]
  },
  {
   "cell_type": "markdown",
   "metadata": {},
   "source": [
    "## Explore data"
   ]
  },
  {
   "cell_type": "code",
   "execution_count": 9,
   "metadata": {},
   "outputs": [
    {
     "data": {
      "text/html": [
       "<div>\n",
       "<style scoped>\n",
       "    .dataframe tbody tr th:only-of-type {\n",
       "        vertical-align: middle;\n",
       "    }\n",
       "\n",
       "    .dataframe tbody tr th {\n",
       "        vertical-align: top;\n",
       "    }\n",
       "\n",
       "    .dataframe thead th {\n",
       "        text-align: right;\n",
       "    }\n",
       "</style>\n",
       "<table border=\"1\" class=\"dataframe\">\n",
       "  <thead>\n",
       "    <tr style=\"text-align: right;\">\n",
       "      <th></th>\n",
       "      <th>id</th>\n",
       "      <th>qid1</th>\n",
       "      <th>qid2</th>\n",
       "      <th>is_duplicate</th>\n",
       "    </tr>\n",
       "  </thead>\n",
       "  <tbody>\n",
       "    <tr>\n",
       "      <th>count</th>\n",
       "      <td>404290.000000</td>\n",
       "      <td>404290.000000</td>\n",
       "      <td>404290.000000</td>\n",
       "      <td>404290.000000</td>\n",
       "    </tr>\n",
       "    <tr>\n",
       "      <th>mean</th>\n",
       "      <td>202144.500000</td>\n",
       "      <td>217243.942418</td>\n",
       "      <td>220955.655337</td>\n",
       "      <td>0.369198</td>\n",
       "    </tr>\n",
       "    <tr>\n",
       "      <th>std</th>\n",
       "      <td>116708.614502</td>\n",
       "      <td>157751.700002</td>\n",
       "      <td>159903.182629</td>\n",
       "      <td>0.482588</td>\n",
       "    </tr>\n",
       "    <tr>\n",
       "      <th>min</th>\n",
       "      <td>0.000000</td>\n",
       "      <td>1.000000</td>\n",
       "      <td>2.000000</td>\n",
       "      <td>0.000000</td>\n",
       "    </tr>\n",
       "    <tr>\n",
       "      <th>25%</th>\n",
       "      <td>101072.250000</td>\n",
       "      <td>74437.500000</td>\n",
       "      <td>74727.000000</td>\n",
       "      <td>0.000000</td>\n",
       "    </tr>\n",
       "    <tr>\n",
       "      <th>50%</th>\n",
       "      <td>202144.500000</td>\n",
       "      <td>192182.000000</td>\n",
       "      <td>197052.000000</td>\n",
       "      <td>0.000000</td>\n",
       "    </tr>\n",
       "    <tr>\n",
       "      <th>75%</th>\n",
       "      <td>303216.750000</td>\n",
       "      <td>346573.500000</td>\n",
       "      <td>354692.500000</td>\n",
       "      <td>1.000000</td>\n",
       "    </tr>\n",
       "    <tr>\n",
       "      <th>max</th>\n",
       "      <td>404289.000000</td>\n",
       "      <td>537932.000000</td>\n",
       "      <td>537933.000000</td>\n",
       "      <td>1.000000</td>\n",
       "    </tr>\n",
       "  </tbody>\n",
       "</table>\n",
       "</div>"
      ],
      "text/plain": [
       "                  id           qid1           qid2   is_duplicate\n",
       "count  404290.000000  404290.000000  404290.000000  404290.000000\n",
       "mean   202144.500000  217243.942418  220955.655337       0.369198\n",
       "std    116708.614502  157751.700002  159903.182629       0.482588\n",
       "min         0.000000       1.000000       2.000000       0.000000\n",
       "25%    101072.250000   74437.500000   74727.000000       0.000000\n",
       "50%    202144.500000  192182.000000  197052.000000       0.000000\n",
       "75%    303216.750000  346573.500000  354692.500000       1.000000\n",
       "max    404289.000000  537932.000000  537933.000000       1.000000"
      ]
     },
     "execution_count": 9,
     "metadata": {},
     "output_type": "execute_result"
    }
   ],
   "source": [
    "df_train.describe() #imbalanced dataset "
   ]
  },
  {
   "cell_type": "code",
   "execution_count": 10,
   "metadata": {},
   "outputs": [
    {
     "data": {
      "text/plain": [
       "(404290, 6)"
      ]
     },
     "execution_count": 10,
     "metadata": {},
     "output_type": "execute_result"
    }
   ],
   "source": [
    "df_train.shape"
   ]
  },
  {
   "cell_type": "code",
   "execution_count": 11,
   "metadata": {},
   "outputs": [
    {
     "data": {
      "text/plain": [
       "537933"
      ]
     },
     "execution_count": 11,
     "metadata": {},
     "output_type": "execute_result"
    }
   ],
   "source": [
    "qid_train = set(df_train.qid1.unique()).union(set(df_train.qid2.unique()))\n",
    "len(qid_train) # total questions"
   ]
  },
  {
   "cell_type": "code",
   "execution_count": 12,
   "metadata": {},
   "outputs": [
    {
     "data": {
      "text/plain": [
       "133643"
      ]
     },
     "execution_count": 12,
     "metadata": {},
     "output_type": "execute_result"
    }
   ],
   "source": [
    "len(qid_train)-df_train.shape[0] # duplicated questions"
   ]
  },
  {
   "cell_type": "code",
   "execution_count": 13,
   "metadata": {},
   "outputs": [
    {
     "data": {
      "text/html": [
       "<div>\n",
       "<style scoped>\n",
       "    .dataframe tbody tr th:only-of-type {\n",
       "        vertical-align: middle;\n",
       "    }\n",
       "\n",
       "    .dataframe tbody tr th {\n",
       "        vertical-align: top;\n",
       "    }\n",
       "\n",
       "    .dataframe thead th {\n",
       "        text-align: right;\n",
       "    }\n",
       "</style>\n",
       "<table border=\"1\" class=\"dataframe\">\n",
       "  <thead>\n",
       "    <tr style=\"text-align: right;\">\n",
       "      <th></th>\n",
       "      <th>test_id</th>\n",
       "      <th>question1</th>\n",
       "      <th>question2</th>\n",
       "    </tr>\n",
       "  </thead>\n",
       "  <tbody>\n",
       "    <tr>\n",
       "      <th>0</th>\n",
       "      <td>0</td>\n",
       "      <td>How does the Surface Pro himself 4 compare wit...</td>\n",
       "      <td>Why did Microsoft choose core m3 and not core ...</td>\n",
       "    </tr>\n",
       "    <tr>\n",
       "      <th>1</th>\n",
       "      <td>1</td>\n",
       "      <td>Should I have a hair transplant at age 24? How...</td>\n",
       "      <td>How much cost does hair transplant require?</td>\n",
       "    </tr>\n",
       "    <tr>\n",
       "      <th>2</th>\n",
       "      <td>2</td>\n",
       "      <td>What but is the best way to send money from Ch...</td>\n",
       "      <td>What you send money to China?</td>\n",
       "    </tr>\n",
       "    <tr>\n",
       "      <th>3</th>\n",
       "      <td>3</td>\n",
       "      <td>Which food not emulsifiers?</td>\n",
       "      <td>What foods fibre?</td>\n",
       "    </tr>\n",
       "    <tr>\n",
       "      <th>4</th>\n",
       "      <td>4</td>\n",
       "      <td>How \"aberystwyth\" start reading?</td>\n",
       "      <td>How their can I start reading?</td>\n",
       "    </tr>\n",
       "  </tbody>\n",
       "</table>\n",
       "</div>"
      ],
      "text/plain": [
       "   test_id                                          question1  \\\n",
       "0        0  How does the Surface Pro himself 4 compare wit...   \n",
       "1        1  Should I have a hair transplant at age 24? How...   \n",
       "2        2  What but is the best way to send money from Ch...   \n",
       "3        3                        Which food not emulsifiers?   \n",
       "4        4                   How \"aberystwyth\" start reading?   \n",
       "\n",
       "                                           question2  \n",
       "0  Why did Microsoft choose core m3 and not core ...  \n",
       "1        How much cost does hair transplant require?  \n",
       "2                      What you send money to China?  \n",
       "3                                  What foods fibre?  \n",
       "4                     How their can I start reading?  "
      ]
     },
     "execution_count": 13,
     "metadata": {},
     "output_type": "execute_result"
    }
   ],
   "source": [
    "df_test = pd.read_csv(data_dir / 'test.csv')\n",
    "df_test.head()"
   ]
  },
  {
   "cell_type": "code",
   "execution_count": 14,
   "metadata": {},
   "outputs": [
    {
     "data": {
      "text/plain": [
       "(2345796, 3)"
      ]
     },
     "execution_count": 14,
     "metadata": {},
     "output_type": "execute_result"
    }
   ],
   "source": [
    "df_test.shape"
   ]
  },
  {
   "cell_type": "markdown",
   "metadata": {},
   "source": [
    "# Benchmark Model"
   ]
  },
  {
   "cell_type": "code",
   "execution_count": 15,
   "metadata": {},
   "outputs": [
    {
     "data": {
      "text/plain": [
       "0.369197853026293"
      ]
     },
     "execution_count": 15,
     "metadata": {},
     "output_type": "execute_result"
    }
   ],
   "source": [
    "p = df_train.is_duplicate.mean()\n",
    "p \n",
    "# always set the this value as prediction, get logloss score = 0.55 in leaderboard"
   ]
  },
  {
   "cell_type": "markdown",
   "metadata": {},
   "source": [
    "## Submit to Kaggle"
   ]
  },
  {
   "cell_type": "code",
   "execution_count": 16,
   "metadata": {},
   "outputs": [],
   "source": [
    "# sub = pd.DataFrame({'test_id': df_test['test_id'], 'is_duplicate': p})\n",
    "# sub.to_csv('naive_submission.csv', index=False)\n",
    "# !kaggle competitions submit -c Quora-Question-Pairs -f naive_submission.csv -m \"naive_submission\""
   ]
  },
  {
   "cell_type": "markdown",
   "metadata": {},
   "source": [
    "# Process Data"
   ]
  },
  {
   "cell_type": "markdown",
   "metadata": {},
   "source": [
    "## Clean dataset"
   ]
  },
  {
   "cell_type": "code",
   "execution_count": 17,
   "metadata": {},
   "outputs": [],
   "source": [
    "# this is from https://github.com/yoonkim/CNN_sentence/blob/master/process_data.py\n",
    "def clean_str(string):\n",
    "    \"\"\"\n",
    "    Tokenization/string cleaning for all datasets except for SST.\n",
    "    Every dataset is lower cased except for TREC\n",
    "    \"\"\"\n",
    "    string = re.sub(r\"[^A-Za-z0-9(),!?\\'\\`]\", \" \", string)     \n",
    "    string = re.sub(r\"\\'s\", \" \\'s\", string) \n",
    "    string = re.sub(r\"\\'ve\", \" \\'ve\", string) \n",
    "    string = re.sub(r\"n\\'t\", \" n\\'t\", string) \n",
    "    string = re.sub(r\"\\'re\", \" \\'re\", string) \n",
    "    string = re.sub(r\"\\'d\", \" \\'d\", string) \n",
    "    string = re.sub(r\"\\'ll\", \" \\'ll\", string) \n",
    "    string = re.sub(r\",\", \" , \", string) \n",
    "    string = re.sub(r\"!\", \" ! \", string) \n",
    "    string = re.sub(r\"\\(\", \" \\( \", string) \n",
    "    string = re.sub(r\"\\)\", \" \\) \", string) \n",
    "    string = re.sub(r\"\\?\", \" \\? \", string) \n",
    "    string = re.sub(r\"\\s{2,}\", \" \", string)    \n",
    "    return string.strip().lower()"
   ]
  },
  {
   "cell_type": "code",
   "execution_count": 18,
   "metadata": {},
   "outputs": [],
   "source": [
    "def read_file(path):\n",
    "    \"\"\" Read file returns a shuttled list.\n",
    "    \"\"\"\n",
    "    with open(path, encoding = \"ISO-8859-1\") as f:\n",
    "        content = np.array(f.readlines())\n",
    "    return content"
   ]
  },
  {
   "cell_type": "code",
   "execution_count": 19,
   "metadata": {},
   "outputs": [],
   "source": [
    "def get_vocab(list_of_content):\n",
    "    \"\"\"Computes Dict of counts of words.\n",
    "    \n",
    "    Computes the number of times a word is on a document.\n",
    "    \"\"\"\n",
    "    vocab = defaultdict(float)\n",
    "    for content in list_of_content:\n",
    "        for left, right in content: #left and right in one content\n",
    "            left = left.strip()\n",
    "            right = right.strip()\n",
    "            words_left = set(left.split())\n",
    "            words_right = set(right.split())\n",
    "            for word in words_left:\n",
    "                vocab[word] += 1\n",
    "            for word in words_right:\n",
    "                vocab[word] += 1\n",
    "    return vocab       "
   ]
  },
  {
   "cell_type": "code",
   "execution_count": 20,
   "metadata": {},
   "outputs": [],
   "source": [
    "df_train['question1']=df_train['question1'].apply(lambda  x: clean_str(str(x)))"
   ]
  },
  {
   "cell_type": "code",
   "execution_count": 21,
   "metadata": {},
   "outputs": [],
   "source": [
    "df_train['question2']=df_train['question2'].apply(lambda  x: clean_str(str(x)))"
   ]
  },
  {
   "cell_type": "markdown",
   "metadata": {},
   "source": [
    "## Split train and validation"
   ]
  },
  {
   "cell_type": "code",
   "execution_count": 22,
   "metadata": {},
   "outputs": [],
   "source": [
    "train, val = train_test_split(df_train, test_size=0.2, random_state=42)"
   ]
  },
  {
   "cell_type": "code",
   "execution_count": 23,
   "metadata": {},
   "outputs": [],
   "source": [
    "X_val = val[['question1','question2']].values\n",
    "y_val = val.is_duplicate.values"
   ]
  },
  {
   "cell_type": "markdown",
   "metadata": {},
   "source": [
    "## Upsample minority for imbalanced dataset"
   ]
  },
  {
   "cell_type": "code",
   "execution_count": 24,
   "metadata": {},
   "outputs": [
    {
     "name": "stdout",
     "output_type": "stream",
     "text": [
      "0.369197853026293\n"
     ]
    },
    {
     "data": {
      "text/plain": [
       "array([0, 0, 0, ..., 0, 0, 0])"
      ]
     },
     "execution_count": 24,
     "metadata": {},
     "output_type": "execute_result"
    }
   ],
   "source": [
    "y = df_train.is_duplicate.values\n",
    "print(sum(y)/len(y))# imbalanced dataset, y=1 is the minority\n",
    "y"
   ]
  },
  {
   "cell_type": "code",
   "execution_count": 25,
   "metadata": {},
   "outputs": [],
   "source": [
    "majority = df_train[df_train.is_duplicate==0]\n",
    "minority = df_train[df_train.is_duplicate==1]\n",
    "# upsample minority\n",
    "minority_upsampled = resample(minority,\n",
    "                          replace=True, # sample with replacement\n",
    "                          n_samples=len(majority), # match number in majority class\n",
    "                          random_state=42) # reproducible results"
   ]
  },
  {
   "cell_type": "code",
   "execution_count": 26,
   "metadata": {},
   "outputs": [
    {
     "data": {
      "text/plain": [
       "0.5"
      ]
     },
     "execution_count": 26,
     "metadata": {},
     "output_type": "execute_result"
    }
   ],
   "source": [
    "# combine majority and upsampled minority\n",
    "upsampled = pd.concat([majority, minority_upsampled])\n",
    "sum(upsampled.is_duplicate)/len(upsampled.is_duplicate)"
   ]
  },
  {
   "cell_type": "code",
   "execution_count": 27,
   "metadata": {},
   "outputs": [],
   "source": [
    "X_train = upsampled[['question1','question2']].values\n",
    "y_train = upsampled.is_duplicate.values"
   ]
  },
  {
   "cell_type": "code",
   "execution_count": 28,
   "metadata": {},
   "outputs": [
    {
     "data": {
      "text/plain": [
       "array([['what is the step by step guide to invest in share market in india \\\\?',\n",
       "        'what is the step by step guide to invest in share market \\\\?'],\n",
       "       ['what is the story of kohinoor \\\\( koh i noor \\\\) diamond \\\\?',\n",
       "        'what would happen if the indian government stole the kohinoor \\\\( koh i noor \\\\) diamond back \\\\?'],\n",
       "       ['how can i increase the speed of my internet connection while using a vpn \\\\?',\n",
       "        'how can internet speed be increased by hacking through dns \\\\?'],\n",
       "       ['why am i mentally very lonely \\\\? how can i solve it \\\\?',\n",
       "        'find the remainder when math 23 24 math is divided by 24 , 23 \\\\?'],\n",
       "       ['which one dissolve in water quikly sugar , salt , methane and carbon di oxide \\\\?',\n",
       "        'which fish would survive in salt water \\\\?']], dtype=object)"
      ]
     },
     "execution_count": 28,
     "metadata": {},
     "output_type": "execute_result"
    }
   ],
   "source": [
    "X_train[:5]"
   ]
  },
  {
   "cell_type": "code",
   "execution_count": 29,
   "metadata": {},
   "outputs": [
    {
     "data": {
      "text/plain": [
       "array([0, 0, 0, 0, 0])"
      ]
     },
     "execution_count": 29,
     "metadata": {},
     "output_type": "execute_result"
    }
   ],
   "source": [
    "y_train[:5]"
   ]
  },
  {
   "cell_type": "markdown",
   "metadata": {},
   "source": [
    "## Get vocab2index, and prepare initialize embedding with a pre-trained Glove "
   ]
  },
  {
   "cell_type": "code",
   "execution_count": 30,
   "metadata": {},
   "outputs": [],
   "source": [
    "def loadGloveModel(gloveFile=Path('../lab-4-gru-wenjie-duan/data/glove.6B.50d.txt')):\n",
    "    \"\"\" Loads word vectors into a dictionary.\"\"\"\n",
    "    f = open(gloveFile,'r')\n",
    "    word_vecs = {}\n",
    "    for line in f:\n",
    "        splitLine = line.split()\n",
    "        word = splitLine[0]\n",
    "        word_vecs[word] = np.array([float(val) for val in splitLine[1:]])\n",
    "    return word_vecs"
   ]
  },
  {
   "cell_type": "code",
   "execution_count": 31,
   "metadata": {},
   "outputs": [],
   "source": [
    "word_vecs = loadGloveModel()"
   ]
  },
  {
   "cell_type": "code",
   "execution_count": 32,
   "metadata": {},
   "outputs": [],
   "source": [
    "# let compute the vocab again\n",
    "word_count = get_vocab([X_train])"
   ]
  },
  {
   "cell_type": "code",
   "execution_count": 33,
   "metadata": {},
   "outputs": [
    {
     "name": "stdout",
     "output_type": "stream",
     "text": [
      "400000 87868\n"
     ]
    }
   ],
   "source": [
    "print(len(word_vecs.keys()), len(word_count.keys()))"
   ]
  },
  {
   "cell_type": "code",
   "execution_count": 34,
   "metadata": {},
   "outputs": [],
   "source": [
    "def delete_rare_words(word_vecs, word_count, min_df=4):\n",
    "    \"\"\" Deletes rare words from word_count\n",
    "    \n",
    "    Deletes words from word_count if they are not in word_vecs\n",
    "    and don't have at least min_df occurrencies in word_count.\n",
    "    \"\"\"\n",
    "    words_delete = []\n",
    "    for word in word_count:\n",
    "        if word_count[word] < min_df and word not in word_vecs:\n",
    "            words_delete.append(word)\n",
    "    for word in words_delete: word_count.pop(word)\n",
    "    return word_count"
   ]
  },
  {
   "cell_type": "code",
   "execution_count": 35,
   "metadata": {},
   "outputs": [
    {
     "name": "stdout",
     "output_type": "stream",
     "text": [
      "63809\n"
     ]
    }
   ],
   "source": [
    "word_count = delete_rare_words(word_vecs, word_count)\n",
    "print(len(word_count.keys()))"
   ]
  },
  {
   "cell_type": "code",
   "execution_count": 36,
   "metadata": {},
   "outputs": [],
   "source": [
    "def create_embedding_matrix(word_vecs, word_count, min_df=4, emb_size=50):\n",
    "    \"\"\"Creates embedding matrix from word vectors. \"\"\"\n",
    "    word_count = delete_rare_words(word_vecs, word_count, min_df)\n",
    "    V = len(word_count.keys()) + 2\n",
    "    vocab2index = {}\n",
    "    W = np.zeros((V, emb_size), dtype=\"float32\")\n",
    "    vocab = [\"\", \"UNK\"]\n",
    "    # adding a vector for padding\n",
    "    W[0] = np.zeros(emb_size, dtype='float32')\n",
    "    # adding a vector for rare words \n",
    "    W[1] = np.random.uniform(-0.25, 0.25, emb_size)\n",
    "    vocab2index[\"UNK\"] = 1\n",
    "    i = 2\n",
    "    for word in word_count:\n",
    "        if word in word_vecs:\n",
    "            W[i] = word_vecs[word]\n",
    "            vocab2index[word] = i\n",
    "            vocab.append(word)\n",
    "            i += 1\n",
    "        else:\n",
    "            W[i] = np.random.uniform(-0.25,0.25, emb_size)\n",
    "            vocab2index[word] = i\n",
    "            vocab.append(word)\n",
    "            i += 1   \n",
    "    return W, np.array(vocab), vocab2index"
   ]
  },
  {
   "cell_type": "code",
   "execution_count": 37,
   "metadata": {},
   "outputs": [],
   "source": [
    "pretrained_weight, vocab, vocab2index = create_embedding_matrix(word_vecs, word_count)"
   ]
  },
  {
   "cell_type": "code",
   "execution_count": 38,
   "metadata": {},
   "outputs": [
    {
     "data": {
      "text/plain": [
       "63811"
      ]
     },
     "execution_count": 38,
     "metadata": {},
     "output_type": "execute_result"
    }
   ],
   "source": [
    "len(pretrained_weight)"
   ]
  },
  {
   "cell_type": "code",
   "execution_count": 39,
   "metadata": {},
   "outputs": [
    {
     "data": {
      "text/plain": [
       "tensor([[ 0.0000,  0.0000,  0.0000,  ...,  0.0000,  0.0000,  0.0000],\n",
       "        [-0.1662, -0.0191, -0.0600,  ..., -0.1047, -0.2422,  0.0405],\n",
       "        [ 0.4532,  0.0598, -0.1058,  ...,  0.5324, -0.2510,  0.6255],\n",
       "        ...,\n",
       "        [-0.1498, -0.0614, -1.3842,  ...,  0.7347, -1.1656, -1.0799],\n",
       "        [ 0.5151,  0.0278, -0.4212,  ..., -0.5878,  0.6414, -2.0988],\n",
       "        [-0.1180, -0.2042, -0.4037,  ..., -0.2884,  0.9183, -0.4045]])"
      ]
     },
     "execution_count": 39,
     "metadata": {},
     "output_type": "execute_result"
    }
   ],
   "source": [
    "# creating an embedding matrix with Glove embeddings\n",
    "emb_size = 50\n",
    "V = len(pretrained_weight)\n",
    "emb = nn.Embedding(V, emb_size)\n",
    "emb.weight.data.copy_(torch.from_numpy(pretrained_weight)) # copy  from Glove"
   ]
  },
  {
   "cell_type": "code",
   "execution_count": 40,
   "metadata": {},
   "outputs": [
    {
     "data": {
      "text/plain": [
       "Parameter containing:\n",
       "tensor([[ 0.0000,  0.0000,  0.0000,  ...,  0.0000,  0.0000,  0.0000],\n",
       "        [-0.1662, -0.0191, -0.0600,  ..., -0.1047, -0.2422,  0.0405],\n",
       "        [ 0.4532,  0.0598, -0.1058,  ...,  0.5324, -0.2510,  0.6255],\n",
       "        ...,\n",
       "        [-0.1498, -0.0614, -1.3842,  ...,  0.7347, -1.1656, -1.0799],\n",
       "        [ 0.5151,  0.0278, -0.4212,  ..., -0.5878,  0.6414, -2.0988],\n",
       "        [-0.1180, -0.2042, -0.4037,  ..., -0.2884,  0.9183, -0.4045]],\n",
       "       requires_grad=True)"
      ]
     },
     "execution_count": 40,
     "metadata": {},
     "output_type": "execute_result"
    }
   ],
   "source": [
    "emb.weight  # emb is pre-trained"
   ]
  },
  {
   "cell_type": "code",
   "execution_count": 41,
   "metadata": {},
   "outputs": [
    {
     "data": {
      "text/plain": [
       "Parameter containing:\n",
       "tensor([[-0.9400,  0.8914,  0.7156,  ...,  1.1492, -1.6578,  0.1789],\n",
       "        [-0.0321,  0.2208, -1.4044,  ...,  1.4767, -0.8019,  1.4304],\n",
       "        [ 1.5595,  0.2448, -0.2031,  ...,  0.1336, -0.8925,  0.1267],\n",
       "        ...,\n",
       "        [ 0.9069, -0.3408,  1.0463,  ...,  1.6598,  0.3246,  1.3094],\n",
       "        [ 0.0618, -0.1023, -0.0845,  ...,  2.7552,  0.3336,  0.1429],\n",
       "        [-2.4804, -2.0402, -0.0655,  ...,  0.6481,  1.9671, -0.1751]],\n",
       "       requires_grad=True)"
      ]
     },
     "execution_count": 41,
     "metadata": {},
     "output_type": "execute_result"
    }
   ],
   "source": [
    "nn.Embedding(V, emb_size).weight # an example of random embedding "
   ]
  },
  {
   "cell_type": "code",
   "execution_count": 42,
   "metadata": {},
   "outputs": [
    {
     "data": {
      "text/plain": [
       "array([0., 0., 0., 0., 0., 0., 0., 0., 0., 0., 0., 0., 0., 0., 0., 0., 0.,\n",
       "       0., 0., 0., 0., 0., 0., 0., 0., 0., 0., 0., 0., 0., 0., 0., 0., 0.,\n",
       "       0., 0., 0., 0., 0., 0., 0., 0., 0., 0., 0., 0., 0., 0., 0., 0.],\n",
       "      dtype=float32)"
      ]
     },
     "execution_count": 42,
     "metadata": {},
     "output_type": "execute_result"
    }
   ],
   "source": [
    "pretrained_weight[0]"
   ]
  },
  {
   "cell_type": "code",
   "execution_count": 43,
   "metadata": {},
   "outputs": [
    {
     "data": {
      "text/plain": [
       "1"
      ]
     },
     "execution_count": 43,
     "metadata": {},
     "output_type": "execute_result"
    }
   ],
   "source": [
    "vocab2index['UNK']"
   ]
  },
  {
   "cell_type": "code",
   "execution_count": 44,
   "metadata": {},
   "outputs": [
    {
     "data": {
      "text/plain": [
       "array(['', 'UNK', 'what', 'is', 'step', 'to', 'in', 'the', 'india',\n",
       "       'invest'], dtype='<U52')"
      ]
     },
     "execution_count": 44,
     "metadata": {},
     "output_type": "execute_result"
    }
   ],
   "source": [
    "vocab[:10]"
   ]
  },
  {
   "cell_type": "markdown",
   "metadata": {},
   "source": [
    "# Dataset"
   ]
  },
  {
   "cell_type": "markdown",
   "metadata": {},
   "source": [
    "## Encode data"
   ]
  },
  {
   "cell_type": "code",
   "execution_count": 45,
   "metadata": {},
   "outputs": [],
   "source": [
    "def encode_sentence_no_padding(line, vocab2index):\n",
    "    words = line.split()\n",
    "    return np.array([vocab2index.get(w, vocab2index[\"UNK\"]) for w in words])"
   ]
  },
  {
   "cell_type": "code",
   "execution_count": 46,
   "metadata": {},
   "outputs": [],
   "source": [
    "class QuoraDataset(Dataset):\n",
    "    def __init__(self, X, y,train=True):\n",
    "        self.train = train\n",
    "        self.x  = X\n",
    "        self.y = y\n",
    "        self.x = [(encode_sentence_no_padding(left, vocab2index)\n",
    "                   ,encode_sentence_no_padding(right, vocab2index)) for left, right in self.x]\n",
    "    \n",
    "    def __len__(self):\n",
    "        return len(self.y)\n",
    "    \n",
    "    def __getitem__(self, idx):\n",
    "        if self.train:\n",
    "            return self.x[idx], self.y[idx]\n",
    "        else:\n",
    "            return self.x[idx]\n",
    "\n",
    "train_ds = QuoraDataset(X_train, y_train)\n",
    "valid_ds = QuoraDataset(X_val, y_val)"
   ]
  },
  {
   "cell_type": "code",
   "execution_count": 47,
   "metadata": {},
   "outputs": [
    {
     "data": {
      "text/plain": [
       "array(['what is the step by step guide to invest in share market in india \\\\?',\n",
       "       'what is the step by step guide to invest in share market \\\\?'],\n",
       "      dtype=object)"
      ]
     },
     "execution_count": 47,
     "metadata": {},
     "output_type": "execute_result"
    }
   ],
   "source": [
    "X_train[0]"
   ]
  },
  {
   "cell_type": "code",
   "execution_count": 48,
   "metadata": {},
   "outputs": [],
   "source": [
    "x,y  = next(iter(train_ds))"
   ]
  },
  {
   "cell_type": "code",
   "execution_count": 49,
   "metadata": {},
   "outputs": [
    {
     "data": {
      "text/plain": [
       "(array([ 2,  3,  7,  4, 13,  4, 14,  5,  9,  6, 11, 10,  6,  8, 12]),\n",
       " array([ 2,  3,  7,  4, 13,  4, 14,  5,  9,  6, 11, 10, 12]))"
      ]
     },
     "execution_count": 49,
     "metadata": {},
     "output_type": "execute_result"
    }
   ],
   "source": [
    "x"
   ]
  },
  {
   "cell_type": "code",
   "execution_count": 50,
   "metadata": {},
   "outputs": [
    {
     "data": {
      "text/plain": [
       "0"
      ]
     },
     "execution_count": 50,
     "metadata": {},
     "output_type": "execute_result"
    }
   ],
   "source": [
    "y"
   ]
  },
  {
   "cell_type": "markdown",
   "metadata": {},
   "source": [
    "## Dynamic padding + pack_padded_sequence"
   ]
  },
  {
   "cell_type": "code",
   "execution_count": 51,
   "metadata": {},
   "outputs": [],
   "source": [
    "def collate_fn(data):\n",
    "    \"\"\"Creates mini-batch tensors from the list of tuples (sentences, labels).\n",
    "    \n",
    "    Need custom collate_fn because merging sequences (including padding) is not \n",
    "    supported in default. Sequences are padded to the maximum length of mini-batch \n",
    "    sequences (dynamic padding\n",
    "    ).\n",
    "    \n",
    "    Args:\n",
    "        data: list of tuple (sentence, label). \n",
    "            - list of word indices of variable length\n",
    "            - label, 0 or 1\n",
    "    Returns:\n",
    "        packed_batch: (PackedSequence), see torch.nn.utils.rnn.pack_padded_sequence\n",
    "        sencences: torch tensor of shape (batch_size, max_len).\n",
    "        labels: torch tensor of shape (batch_size, 1).\n",
    "        lengths: list; valid length for each padded sentence. \n",
    "    \"\"\"\n",
    "    # Sort a data list by sentences length (descending order).\n",
    "    data.sort(key=lambda x: max(len(x[0][0]),len(x[0][1])), reverse=True) # the max of left and right sentence length\n",
    "    sentences, labels = zip(*data)\n",
    "    \n",
    "    # stack labels\n",
    "    labels = torch.Tensor(labels)\n",
    "    \n",
    "    # Merge sentences\n",
    "    lengths = [max(len(left), len(right)) for left, right in sentences]\n",
    "   \n",
    "    sents_left = torch.zeros(len(sentences), max(lengths)).long()\n",
    "    sents_right = torch.zeros(len(sentences), max(lengths)).long()\n",
    "    \n",
    "    for i, s in enumerate(sentences):\n",
    "        end = len(s[0])\n",
    "        sents_left[i, :end] = torch.Tensor(s[0][:end])        \n",
    "    \n",
    "    for i, s in enumerate(sentences):\n",
    "        end = len(s[1])\n",
    "        sents_right[i, :end] = torch.Tensor(s[1][:end])   \n",
    "    \n",
    "    return sents_left, sents_right, lengths, labels"
   ]
  },
  {
   "cell_type": "code",
   "execution_count": 52,
   "metadata": {},
   "outputs": [],
   "source": [
    "batch_size = 5\n",
    "train_dl = DataLoader(train_ds, batch_size=batch_size, shuffle=True, collate_fn=collate_fn)\n",
    "valid_dl = DataLoader(valid_ds, batch_size=batch_size, collate_fn=collate_fn)"
   ]
  },
  {
   "cell_type": "code",
   "execution_count": 53,
   "metadata": {},
   "outputs": [],
   "source": [
    "sents_left, sents_right, lengths, labels = next(iter(train_dl))"
   ]
  },
  {
   "cell_type": "code",
   "execution_count": 54,
   "metadata": {},
   "outputs": [
    {
     "data": {
      "text/plain": [
       "tensor([[   49,     8,   235,   150,  5319,  5913, 15710,   127,  7762,    60,\n",
       "            51,   350,  2969,   127,     8,    12,     0,     0,     0,     0,\n",
       "             0,     0,     0,     0,     0,     0,     0,     0,     0,     0,\n",
       "             0,     0,     0,     0,     0],\n",
       "        [    2,     3,     7,   701,    23,     7,  1487,  1062,     1,    12,\n",
       "            49,     3,   276,  1062,  8778,  1303,   927,     6,  4929,    12,\n",
       "             0,     0,     0,     0,     0,     0,     0,     0,     0,     0,\n",
       "             0,     0,     0,     0,     0],\n",
       "        [    2,     3,     7,   135,   198,    23,  1456,  3235,   690,    12,\n",
       "             0,     0,     0,     0,     0,     0,     0,     0,     0,     0,\n",
       "             0,     0,     0,     0,     0,     0,     0,     0,     0,     0,\n",
       "             0,     0,     0,     0,     0],\n",
       "        [  349,  5963,     7,    40,    12,     0,     0,     0,     0,     0,\n",
       "             0,     0,     0,     0,     0,     0,     0,     0,     0,     0,\n",
       "             0,     0,     0,     0,     0,     0,     0,     0,     0,     0,\n",
       "             0,     0,     0,     0,     0],\n",
       "        [   34,    32,    19, 30835,  3259,   148,   574,  1535,    39,  7816,\n",
       "            12,     0,     0,     0,     0,     0,     0,     0,     0,     0,\n",
       "             0,     0,     0,     0,     0,     0,     0,     0,     0,     0,\n",
       "             0,     0,     0,     0,     0]])"
      ]
     },
     "execution_count": 54,
     "metadata": {},
     "output_type": "execute_result"
    }
   ],
   "source": [
    "sents_left"
   ]
  },
  {
   "cell_type": "code",
   "execution_count": 55,
   "metadata": {},
   "outputs": [
    {
     "data": {
      "text/plain": [
       "tensor([[  203,     7,  2753,   169,   234,     3,   425,   198,     6,     7,\n",
       "           700,     5, 31346,     7,  3095,    18,  1927,     1, 14743,    21,\n",
       "         31347,    13,     8,    61,    49,   171,     8,   215,  9513,   467,\n",
       "             6,   106,   207,  1689,    12],\n",
       "        [ 1487,  6464,    62,   225,     2,  1182,   171,     7,  1062, 47819,\n",
       "           172,    12,     0,     0,     0,     0,     0,     0,     0,     0,\n",
       "             0,     0,     0,     0,     0,     0,     0,     0,     0,     0,\n",
       "             0,     0,     0,     0,     0],\n",
       "        [    2,     3,     7,   135,   198,     5,   383,    38,  1456,    13,\n",
       "          1279,    12,     0,     0,     0,     0,     0,     0,     0,     0,\n",
       "             0,     0,     0,     0,     0,     0,     0,     0,     0,     0,\n",
       "             0,     0,     0,     0,     0],\n",
       "        [  349,  5963,     7,    40,    12,    34,   262,   276,  4510,     7,\n",
       "           636,    12,     0,     0,     0,     0,     0,     0,     0,     0,\n",
       "             0,     0,     0,     0,     0,     0,     0,     0,     0,     0,\n",
       "             0,     0,     0,     0,     0],\n",
       "        [   34,    88,    19,  3669, 30835,  7351,     6,  7816,    12,     0,\n",
       "             0,     0,     0,     0,     0,     0,     0,     0,     0,     0,\n",
       "             0,     0,     0,     0,     0,     0,     0,     0,     0,     0,\n",
       "             0,     0,     0,     0,     0]])"
      ]
     },
     "execution_count": 55,
     "metadata": {},
     "output_type": "execute_result"
    }
   ],
   "source": [
    "sents_right"
   ]
  },
  {
   "cell_type": "code",
   "execution_count": 56,
   "metadata": {},
   "outputs": [
    {
     "data": {
      "text/plain": [
       "(torch.Size([5, 35]), torch.Size([5]))"
      ]
     },
     "execution_count": 56,
     "metadata": {},
     "output_type": "execute_result"
    }
   ],
   "source": [
    "sents_left.shape, labels.shape"
   ]
  },
  {
   "cell_type": "code",
   "execution_count": 57,
   "metadata": {},
   "outputs": [
    {
     "data": {
      "text/plain": [
       "[35, 20, 12, 12, 11]"
      ]
     },
     "execution_count": 57,
     "metadata": {},
     "output_type": "execute_result"
    }
   ],
   "source": [
    "lengths"
   ]
  },
  {
   "cell_type": "markdown",
   "metadata": {},
   "source": [
    "# Model"
   ]
  },
  {
   "cell_type": "markdown",
   "metadata": {},
   "source": [
    "## Implement model"
   ]
  },
  {
   "cell_type": "code",
   "execution_count": 58,
   "metadata": {},
   "outputs": [],
   "source": [
    "threshold=0.5"
   ]
  },
  {
   "cell_type": "code",
   "execution_count": 59,
   "metadata": {},
   "outputs": [],
   "source": [
    "class GRUModel(torch.nn.Module) :\n",
    "    def __init__(self, vocab_size, embedding_dim, hidden_dim, glove_weights=None) :\n",
    "        super(GRUModel,self).__init__()\n",
    "        self.hidden_dim = hidden_dim\n",
    "        self.embedding = nn.Embedding(vocab_size, embedding_dim, padding_idx=0)\n",
    "        # use pre_trained embed\n",
    "        if glove_weights is not None:\n",
    "            self.embedding.weight.data.copy_(torch.from_numpy(glove_weights))\n",
    "            self.embedding.weight.requires_grad = False ## freeze embeddings\n",
    "\n",
    "        self.gru = nn.GRU(embedding_dim, hidden_dim, batch_first=True)\n",
    "        #self.linear = nn.Linear(hidden_dim, 1)\n",
    "        self.dropout = nn.Dropout(0.5)\n",
    "        \n",
    "    def forward(self, x1, x2,lengths):\n",
    "        x1 = self.embedding(x1)\n",
    "        x2 = self.embedding(x2)\n",
    "        x1 = self.dropout(x1)\n",
    "        x2 = self.dropout(x2)\n",
    "        pack1 = pack_padded_sequence(x1, lengths, batch_first=True)\n",
    "        pack2 = pack_padded_sequence(x2, lengths, batch_first=True)\n",
    "        out_pack1, ht1 = self.gru(pack1)\n",
    "        out_pack2, ht2 = self.gru(pack2)\n",
    "        #distance = torch.exp(-abs(self.linear(ht1[-1])-self.linear(ht2[-1])))\n",
    "        distance = torch.exp(-torch.sum(torch.abs(ht1[-1]-ht2[-1]),dim=1))\n",
    "        return distance"
   ]
  },
  {
   "cell_type": "markdown",
   "metadata": {},
   "source": [
    "## Debug model"
   ]
  },
  {
   "cell_type": "code",
   "execution_count": 60,
   "metadata": {},
   "outputs": [],
   "source": [
    "embedding_dim = 50 \n",
    "hidden_dim = 100"
   ]
  },
  {
   "cell_type": "code",
   "execution_count": 61,
   "metadata": {},
   "outputs": [],
   "source": [
    "vocab_size = len(pretrained_weight)\n",
    "emb = nn.Embedding(vocab_size, embedding_dim, padding_idx=0)\n",
    "gru=nn.GRU(embedding_dim, hidden_dim, batch_first=True)\n",
    "linear = nn.Linear(hidden_dim, 1)"
   ]
  },
  {
   "cell_type": "code",
   "execution_count": 62,
   "metadata": {},
   "outputs": [],
   "source": [
    "tr_dl = DataLoader(train_ds, batch_size=3, shuffle=True, collate_fn=collate_fn)\n",
    "x_left, x_right, s, y = next(iter(tr_dl))"
   ]
  },
  {
   "cell_type": "code",
   "execution_count": 63,
   "metadata": {},
   "outputs": [],
   "source": [
    "x_left = x_left.long()\n",
    "x_right = x_right.long()\n",
    "y = y.float()"
   ]
  },
  {
   "cell_type": "code",
   "execution_count": 64,
   "metadata": {},
   "outputs": [
    {
     "data": {
      "text/plain": [
       "tensor([[-0.1571],\n",
       "        [-0.1422],\n",
       "        [-0.0258]], grad_fn=<AddmmBackward>)"
      ]
     },
     "execution_count": 64,
     "metadata": {},
     "output_type": "execute_result"
    }
   ],
   "source": [
    "x_left = emb(x_left)\n",
    "pack = pack_padded_sequence(x_left, s, batch_first=True)\n",
    "out_pack, ht = gru(pack)\n",
    "y_pred_left = linear(ht[-1])\n",
    "y_pred_left"
   ]
  },
  {
   "cell_type": "code",
   "execution_count": 65,
   "metadata": {},
   "outputs": [
    {
     "data": {
      "text/plain": [
       "tensor([[-0.1359],\n",
       "        [-0.1034],\n",
       "        [-0.0757]], grad_fn=<AddmmBackward>)"
      ]
     },
     "execution_count": 65,
     "metadata": {},
     "output_type": "execute_result"
    }
   ],
   "source": [
    "x_right = emb(x_right)\n",
    "pack = pack_padded_sequence(x_right, s, batch_first=True)\n",
    "out_pack, ht = gru(pack)\n",
    "y_pred_right = linear(ht[-1])\n",
    "y_pred_right"
   ]
  },
  {
   "cell_type": "code",
   "execution_count": 66,
   "metadata": {},
   "outputs": [
    {
     "data": {
      "text/plain": [
       "tensor([[0.9790],\n",
       "        [0.9619],\n",
       "        [0.9513]], grad_fn=<PowBackward1>)"
      ]
     },
     "execution_count": 66,
     "metadata": {},
     "output_type": "execute_result"
    }
   ],
   "source": [
    "from math import e\n",
    "distance = e**(-abs(y_pred_left - y_pred_right))\n",
    "distance"
   ]
  },
  {
   "cell_type": "code",
   "execution_count": 67,
   "metadata": {},
   "outputs": [
    {
     "data": {
      "text/plain": [
       "tensor([1., 1., 0.])"
      ]
     },
     "execution_count": 67,
     "metadata": {},
     "output_type": "execute_result"
    }
   ],
   "source": [
    "y"
   ]
  },
  {
   "cell_type": "code",
   "execution_count": 68,
   "metadata": {},
   "outputs": [
    {
     "data": {
      "text/plain": [
       "1.0276340246200562"
      ]
     },
     "execution_count": 68,
     "metadata": {},
     "output_type": "execute_result"
    }
   ],
   "source": [
    "loss = F.binary_cross_entropy(distance, y.unsqueeze(1))\n",
    "loss.item()"
   ]
  },
  {
   "cell_type": "code",
   "execution_count": 69,
   "metadata": {},
   "outputs": [
    {
     "data": {
      "text/plain": [
       "tensor([ True,  True, False])"
      ]
     },
     "execution_count": 69,
     "metadata": {},
     "output_type": "execute_result"
    }
   ],
   "source": [
    "y_pred = (distance>threshold)\n",
    "y_pred.reshape(-1)==y"
   ]
  },
  {
   "cell_type": "markdown",
   "metadata": {},
   "source": [
    "# Training"
   ]
  },
  {
   "cell_type": "markdown",
   "metadata": {},
   "source": [
    "## Training functions"
   ]
  },
  {
   "cell_type": "code",
   "execution_count": 70,
   "metadata": {},
   "outputs": [
    {
     "data": {
      "image/png": "[encoded data removed]",
      "text/plain": [
       "<Figure size 432x288 with 1 Axes>"
      ]
     },
     "metadata": {
      "needs_background": "light"
     },
     "output_type": "display_data"
    }
   ],
   "source": [
    "def save_model(m, p): torch.save(m.state_dict(), p)\n",
    "    \n",
    "def load_model(m, p): m.load_state_dict(torch.load(p))\n",
    "    \n",
    "def update_optimizer(optimizer, lr):\n",
    "    for i, param_group in enumerate(optimizer.param_groups):\n",
    "        param_group[\"lr\"] = lr\n",
    "        \n",
    "def cosine_segment(start_lr, end_lr, iterations):\n",
    "    i = np.arange(iterations)\n",
    "    c_i = 1 + np.cos(i*np.pi/iterations)\n",
    "    return end_lr + (start_lr - end_lr)/2 *c_i\n",
    "\n",
    "def get_cosine_triangular_lr(max_lr, iterations, div_start=5, div_end=5):\n",
    "    min_start, min_end = max_lr/div_start, max_lr/div_end\n",
    "    iter1 = int(0.3*iterations)\n",
    "    iter2 = iterations - iter1\n",
    "    segs = [cosine_segment(min_start, max_lr, iter1), cosine_segment(max_lr, min_end, iter2)]\n",
    "    return np.concatenate(segs)\n",
    "\n",
    "N = 100000\n",
    "lr = get_cosine_triangular_lr(0.01, N)\n",
    "plt.plot(list(range(N)), lr)\n",
    "plt.show()"
   ]
  },
  {
   "cell_type": "code",
   "execution_count": 117,
   "metadata": {},
   "outputs": [],
   "source": [
    "def train_epochs(model, optimizer, train_dl, valid_dl, max_lr=0.1, epochs=10):\n",
    "    \n",
    "    iterations = epochs*len(train_dl) # epochs*number of batches \n",
    "    pbar = tqdm(total=iterations)# timeline  \n",
    "    \n",
    "    idx = 0\n",
    "    lrs = get_cosine_triangular_lr(max_lr, iterations) \n",
    "    \n",
    "    highest_loss = float('inf')\n",
    "\n",
    "    for i in range(epochs):\n",
    "        model.train()\n",
    "        sum_loss = 0.0\n",
    "        total = 0\n",
    "        \n",
    "        for x_left, x_right, s, y in train_dl:\n",
    "            \n",
    "            update_optimizer(optimizer, lrs[idx])\n",
    "            \n",
    "            x_left = x_left.long().cuda()\n",
    "            x_right = x_right.long().cuda()\n",
    "            y = y.float().cuda()\n",
    "            \n",
    "            # distance \n",
    "            distance = model(x_left, x_right, s)  # the  distance would between  0-1 \n",
    "            \n",
    "            optimizer.zero_grad()\n",
    "            loss = F.binary_cross_entropy(distance, y.unsqueeze(1)) # deleted _with_logits\n",
    "            loss.backward()\n",
    "            optimizer.step()\n",
    "            sum_loss += loss.item()*y.shape[0]\n",
    "            total += y.shape[0]\n",
    "            pbar.update()\n",
    "        val_loss, val_acc = val_metrics(model, valid_dl)\n",
    "        print(\"train loss %.4f val loss %.4f and val accuracy %.4f\" % (sum_loss/total, val_loss, val_acc))\n",
    "        \n",
    "        if val_loss < highest_loss:\n",
    "            highest_loss = val_loss\n",
    "            path = \"./models/{0}_{1}_loss_{2:.0f}.pth\".format('gru_subset',max_lr,1000*val_loss) \n",
    "            save_model(model, path)\n",
    "\n",
    "            print(path)\n",
    "        \n",
    "        \n",
    "def val_metrics(model, valid_dl):\n",
    "    model.eval()\n",
    "    correct = 0\n",
    "    total = 0\n",
    "    sum_loss = 0.0\n",
    "    for x_left, x_right, s, y in train_dl:\n",
    "        \n",
    "        x_left = x_left.long().cuda()\n",
    "        x_right = x_right.long().cuda()\n",
    "        y = y.float().cuda()\n",
    "        \n",
    "        # distance \n",
    "        distance = model(x_left,x_right,s) # the  distance would between  0-1\n",
    "        # malstm_distance is y \n",
    "\n",
    "        optimizer.zero_grad()\n",
    "        loss = F.binary_cross_entropy(distance, y.unsqueeze(1)) # deleted _with_logits\n",
    "        \n",
    "        y_pred = (distance > threshold) # between 0~1\n",
    "        y_pred= y_pred.view(-1)\n",
    "        correct += (y_pred.float() == y).float().sum()\n",
    "        total += y.shape[0]\n",
    "        sum_loss += loss.item()*y.shape[0]\n",
    "    return sum_loss/total, correct/total"
   ]
  },
  {
   "cell_type": "markdown",
   "metadata": {},
   "source": [
    "## Explore learning  rate with subsample"
   ]
  },
  {
   "cell_type": "code",
   "execution_count": 118,
   "metadata": {},
   "outputs": [
    {
     "data": {
      "text/plain": [
       "255.027"
      ]
     },
     "execution_count": 118,
     "metadata": {},
     "output_type": "execute_result"
    }
   ],
   "source": [
    "X_train.shape[0]/2000"
   ]
  },
  {
   "cell_type": "code",
   "execution_count": 123,
   "metadata": {},
   "outputs": [],
   "source": [
    "np.random.seed(42)\n",
    "inds=np.random.choice(range(X_train.shape[0]),256)\n",
    "X_train_subsample =  X_train[inds,:]\n",
    "y_train_subsample = y_train[inds]\n",
    "train_ds_subsample = QuoraDataset(X_train_subsample, y_train_subsample)\n",
    "inds_val=np.random.choice(range(X_val.shape[0]),64)\n",
    "X_val_subsample =  X_val[inds_val,:]\n",
    "y_val_subsample = y_val[inds_val]\n",
    "valid_ds_subsample = QuoraDataset(X_val_subsample, y_val_subsample)"
   ]
  },
  {
   "cell_type": "code",
   "execution_count": 124,
   "metadata": {},
   "outputs": [],
   "source": [
    "batch_size = 64\n",
    "train_dl_subsample = DataLoader(train_ds_subsample, batch_size=batch_size, shuffle=True, collate_fn=collate_fn)\n",
    "valid_dl_subsample = DataLoader(valid_ds_subsample, batch_size=batch_size, collate_fn=collate_fn)"
   ]
  },
  {
   "cell_type": "code",
   "execution_count": 127,
   "metadata": {},
   "outputs": [
    {
     "data": {
      "application/vnd.jupyter.widget-view+json": {
       "model_id": "1f1283769b0d4341bc18c17010d1c6ac",
       "version_major": 2,
       "version_minor": 0
      },
      "text/plain": [
       "HBox(children=(FloatProgress(value=0.0, max=4.0), HTML(value='')))"
      ]
     },
     "metadata": {},
     "output_type": "display_data"
    },
    {
     "name": "stdout",
     "output_type": "stream",
     "text": [
      "train loss 17.9624 val loss 25.3698 and val accuracy 0.5007\n",
      "./models/gru_subset_1_loss_25370.pth\n"
     ]
    },
    {
     "data": {
      "application/vnd.jupyter.widget-view+json": {
       "model_id": "5cf40d3a8a174a0987fd7929738b1a9d",
       "version_major": 2,
       "version_minor": 0
      },
      "text/plain": [
       "HBox(children=(FloatProgress(value=0.0, max=12.0), HTML(value='')))"
      ]
     },
     "metadata": {},
     "output_type": "display_data"
    },
    {
     "name": "stdout",
     "output_type": "stream",
     "text": [
      "train loss 29.4553 val loss 28.9936 and val accuracy 0.5006\n",
      "./models/gru_subset_1_loss_28994.pth\n",
      "train loss 32.3208 val loss 30.5646 and val accuracy 0.5006\n",
      "train loss 33.4246 val loss 31.3407 and val accuracy 0.5006\n"
     ]
    },
    {
     "data": {
      "application/vnd.jupyter.widget-view+json": {
       "model_id": "6f2eb241caff4e35876cf6ddbcfaa597",
       "version_major": 2,
       "version_minor": 0
      },
      "text/plain": [
       "HBox(children=(FloatProgress(value=0.0, max=4.0), HTML(value='')))"
      ]
     },
     "metadata": {},
     "output_type": "display_data"
    },
    {
     "name": "stdout",
     "output_type": "stream",
     "text": [
      "train loss 3.8248 val loss 1.6592 and val accuracy 0.5156\n",
      "./models/gru_subset_0.1_loss_1659.pth\n"
     ]
    },
    {
     "data": {
      "application/vnd.jupyter.widget-view+json": {
       "model_id": "adb9d16ded6e45d7ae02e112b1974588",
       "version_major": 2,
       "version_minor": 0
      },
      "text/plain": [
       "HBox(children=(FloatProgress(value=0.0, max=12.0), HTML(value='')))"
      ]
     },
     "metadata": {},
     "output_type": "display_data"
    },
    {
     "name": "stdout",
     "output_type": "stream",
     "text": [
      "train loss 2.5126 val loss 1.2013 and val accuracy 0.5216\n",
      "./models/gru_subset_0.1_loss_1201.pth\n",
      "train loss 1.8815 val loss 0.9813 and val accuracy 0.5280\n",
      "./models/gru_subset_0.1_loss_981.pth\n",
      "train loss 1.5162 val loss 0.8431 and val accuracy 0.5323\n",
      "./models/gru_subset_0.1_loss_843.pth\n"
     ]
    },
    {
     "data": {
      "application/vnd.jupyter.widget-view+json": {
       "model_id": "43fa42a6610c4a7086cd85abb859575c",
       "version_major": 2,
       "version_minor": 0
      },
      "text/plain": [
       "HBox(children=(FloatProgress(value=0.0, max=4.0), HTML(value='')))"
      ]
     },
     "metadata": {},
     "output_type": "display_data"
    },
    {
     "name": "stdout",
     "output_type": "stream",
     "text": [
      "train loss 4.6172 val loss 2.5068 and val accuracy 0.5118\n",
      "./models/gru_subset_0.01_loss_2507.pth\n"
     ]
    },
    {
     "data": {
      "application/vnd.jupyter.widget-view+json": {
       "model_id": "529792addadd424d84ec783b7acca9bf",
       "version_major": 2,
       "version_minor": 0
      },
      "text/plain": [
       "HBox(children=(FloatProgress(value=0.0, max=12.0), HTML(value='')))"
      ]
     },
     "metadata": {},
     "output_type": "display_data"
    },
    {
     "name": "stdout",
     "output_type": "stream",
     "text": [
      "train loss 3.7411 val loss 2.0294 and val accuracy 0.5135\n",
      "./models/gru_subset_0.01_loss_2029.pth\n",
      "train loss 3.3122 val loss 1.7587 and val accuracy 0.5150\n",
      "./models/gru_subset_0.01_loss_1759.pth\n",
      "train loss 2.9516 val loss 1.5718 and val accuracy 0.5170\n",
      "./models/gru_subset_0.01_loss_1572.pth\n"
     ]
    },
    {
     "data": {
      "application/vnd.jupyter.widget-view+json": {
       "model_id": "a507ab1c4107483591d79ecff1fd7603",
       "version_major": 2,
       "version_minor": 0
      },
      "text/plain": [
       "HBox(children=(FloatProgress(value=0.0, max=4.0), HTML(value='')))"
      ]
     },
     "metadata": {},
     "output_type": "display_data"
    },
    {
     "name": "stdout",
     "output_type": "stream",
     "text": [
      "train loss 5.2369 val loss 3.6159 and val accuracy 0.5107\n",
      "./models/gru_subset_0.001_loss_3616.pth\n"
     ]
    },
    {
     "data": {
      "application/vnd.jupyter.widget-view+json": {
       "model_id": "6a56c06fafe84ef29c541c4bc5ea0890",
       "version_major": 2,
       "version_minor": 0
      },
      "text/plain": [
       "HBox(children=(FloatProgress(value=0.0, max=12.0), HTML(value='')))"
      ]
     },
     "metadata": {},
     "output_type": "display_data"
    },
    {
     "name": "stdout",
     "output_type": "stream",
     "text": [
      "train loss 4.8429 val loss 3.4553 and val accuracy 0.5109\n",
      "./models/gru_subset_0.001_loss_3455.pth\n",
      "train loss 5.0440 val loss 3.3040 and val accuracy 0.5112\n",
      "./models/gru_subset_0.001_loss_3304.pth\n",
      "train loss 4.6843 val loss 3.1684 and val accuracy 0.5114\n",
      "./models/gru_subset_0.001_loss_3168.pth\n"
     ]
    },
    {
     "data": {
      "application/vnd.jupyter.widget-view+json": {
       "model_id": "5b273aca89d145278c40303ef3094efb",
       "version_major": 2,
       "version_minor": 0
      },
      "text/plain": [
       "HBox(children=(FloatProgress(value=0.0, max=4.0), HTML(value='')))"
      ]
     },
     "metadata": {},
     "output_type": "display_data"
    },
    {
     "name": "stdout",
     "output_type": "stream",
     "text": [
      "train loss 4.8816 val loss 3.3934 and val accuracy 0.5107\n",
      "./models/gru_subset_0.0001_loss_3393.pth\n"
     ]
    },
    {
     "data": {
      "application/vnd.jupyter.widget-view+json": {
       "model_id": "dea611a9174c4532bfbdf6d30cf6504c",
       "version_major": 2,
       "version_minor": 0
      },
      "text/plain": [
       "HBox(children=(FloatProgress(value=0.0, max=12.0), HTML(value='')))"
      ]
     },
     "metadata": {},
     "output_type": "display_data"
    },
    {
     "name": "stdout",
     "output_type": "stream",
     "text": [
      "train loss 4.9922 val loss 3.3780 and val accuracy 0.5108\n",
      "./models/gru_subset_0.0001_loss_3378.pth\n",
      "train loss 4.8421 val loss 3.3628 and val accuracy 0.5108\n",
      "./models/gru_subset_0.0001_loss_3363.pth\n",
      "train loss 4.9660 val loss 3.3475 and val accuracy 0.5108\n",
      "./models/gru_subset_0.0001_loss_3348.pth\n"
     ]
    }
   ],
   "source": [
    "for try_lr in [1,0.1,0.01,0.001,0.0001]:\n",
    "    model = GRUModel(len(pretrained_weight), emb_size, 100, glove_weights=pretrained_weight).cuda() \n",
    "    parameters = filter(lambda p: p.requires_grad, model.parameters())\n",
    "    optimizer = torch.optim.Adam(parameters, lr=0.1, weight_decay=1e-5)\n",
    "    train_epochs(model, optimizer, train_dl_subsample, valid_dl_subsample, max_lr=try_lr, epochs=1)\n",
    "    # unfreezing the embeddings\n",
    "    model.embedding.weight.requires_grad = True\n",
    "    train_epochs(model, optimizer, train_dl_subsample, valid_dl_subsample, max_lr=try_lr, epochs=3)"
   ]
  },
  {
   "cell_type": "markdown",
   "metadata": {},
   "source": [
    "## Finally training epochs"
   ]
  },
  {
   "cell_type": "code",
   "execution_count": 128,
   "metadata": {},
   "outputs": [],
   "source": [
    "batch_size = 10000\n",
    "train_dl = DataLoader(train_ds, batch_size=batch_size, shuffle=True, collate_fn=collate_fn)\n",
    "valid_dl = DataLoader(valid_ds, batch_size=batch_size, collate_fn=collate_fn)"
   ]
  },
  {
   "cell_type": "code",
   "execution_count": 130,
   "metadata": {},
   "outputs": [],
   "source": [
    "model = GRUModel(len(pretrained_weight), emb_size, 100, glove_weights=pretrained_weight).cuda() "
   ]
  },
  {
   "cell_type": "code",
   "execution_count": 131,
   "metadata": {},
   "outputs": [
    {
     "data": {
      "application/vnd.jupyter.widget-view+json": {
       "model_id": "8b2534da55b1415da2c73b6affb2b9ec",
       "version_major": 2,
       "version_minor": 0
      },
      "text/plain": [
       "HBox(children=(FloatProgress(value=0.0, max=104.0), HTML(value='')))"
      ]
     },
     "metadata": {},
     "output_type": "display_data"
    },
    {
     "name": "stdout",
     "output_type": "stream",
     "text": [
      "train loss 0.9704 val loss 0.7193 and val accuracy 0.5824\n",
      "./models/gru_subset_0.1_loss_719.pth\n",
      "train loss 0.6653 val loss 0.6830 and val accuracy 0.6414\n",
      "./models/gru_subset_0.1_loss_683.pth\n"
     ]
    }
   ],
   "source": [
    "parameters = filter(lambda p: p.requires_grad, model.parameters())\n",
    "optimizer = torch.optim.Adam(parameters, lr=0.1, weight_decay=1e-5)\n",
    "train_epochs(model, optimizer, train_dl, valid_dl, max_lr=0.1, epochs=2)"
   ]
  },
  {
   "cell_type": "code",
   "execution_count": 132,
   "metadata": {},
   "outputs": [],
   "source": [
    "# unfreezing the embeddings\n",
    "model.embedding.weight.requires_grad = True"
   ]
  },
  {
   "cell_type": "code",
   "execution_count": 133,
   "metadata": {},
   "outputs": [
    {
     "data": {
      "application/vnd.jupyter.widget-view+json": {
       "model_id": "dccdcb7c90b0478e88909ed201832593",
       "version_major": 2,
       "version_minor": 0
      },
      "text/plain": [
       "HBox(children=(FloatProgress(value=0.0, max=1560.0), HTML(value='')))"
      ]
     },
     "metadata": {},
     "output_type": "display_data"
    },
    {
     "name": "stdout",
     "output_type": "stream",
     "text": [
      "train loss 0.6577 val loss 0.7157 and val accuracy 0.5921\n",
      "./models/gru_subset_0.1_loss_716.pth\n",
      "train loss 0.6542 val loss 0.7044 and val accuracy 0.6310\n",
      "./models/gru_subset_0.1_loss_704.pth\n",
      "train loss 0.6408 val loss 0.7858 and val accuracy 0.5680\n",
      "train loss 0.6323 val loss 0.6735 and val accuracy 0.6552\n",
      "./models/gru_subset_0.1_loss_673.pth\n",
      "train loss 0.6228 val loss 0.7019 and val accuracy 0.6352\n",
      "train loss 0.6169 val loss 0.6457 and val accuracy 0.6769\n",
      "./models/gru_subset_0.1_loss_646.pth\n",
      "train loss 0.6116 val loss 0.6669 and val accuracy 0.6658\n",
      "train loss 0.6086 val loss 0.6402 and val accuracy 0.6824\n",
      "./models/gru_subset_0.1_loss_640.pth\n",
      "train loss 0.6109 val loss 0.6269 and val accuracy 0.6941\n",
      "./models/gru_subset_0.1_loss_627.pth\n",
      "train loss 0.6098 val loss 0.6648 and val accuracy 0.6680\n",
      "train loss 0.6045 val loss 0.6729 and val accuracy 0.6565\n",
      "train loss 0.6030 val loss 0.6350 and val accuracy 0.6868\n",
      "train loss 0.6026 val loss 0.7124 and val accuracy 0.6322\n",
      "train loss 0.6014 val loss 0.6253 and val accuracy 0.6949\n",
      "./models/gru_subset_0.1_loss_625.pth\n",
      "train loss 0.6027 val loss 0.6556 and val accuracy 0.6758\n",
      "train loss 0.6003 val loss 0.6715 and val accuracy 0.6621\n",
      "train loss 0.5974 val loss 0.7031 and val accuracy 0.6395\n",
      "train loss 0.5998 val loss 0.6509 and val accuracy 0.6792\n",
      "train loss 0.5980 val loss 0.6608 and val accuracy 0.6684\n",
      "train loss 0.5961 val loss 0.7220 and val accuracy 0.6265\n",
      "train loss 0.5975 val loss 0.7971 and val accuracy 0.5787\n",
      "train loss 0.6012 val loss 0.6379 and val accuracy 0.6857\n",
      "train loss 0.5984 val loss 0.6578 and val accuracy 0.6705\n",
      "train loss 0.5950 val loss 0.6250 and val accuracy 0.6960\n",
      "./models/gru_subset_0.1_loss_625.pth\n",
      "train loss 0.5969 val loss 0.6710 and val accuracy 0.6616\n",
      "train loss 0.5942 val loss 0.6356 and val accuracy 0.6863\n",
      "train loss 0.5937 val loss 0.6826 and val accuracy 0.6549\n",
      "train loss 0.5921 val loss 0.6406 and val accuracy 0.6842\n",
      "train loss 0.5943 val loss 0.6697 and val accuracy 0.6593\n",
      "train loss 0.5907 val loss 0.7280 and val accuracy 0.6127\n"
     ]
    }
   ],
   "source": [
    "train_epochs(model, optimizer, train_dl, valid_dl, max_lr=0.1, epochs=30)"
   ]
  },
  {
   "cell_type": "code",
   "execution_count": 135,
   "metadata": {},
   "outputs": [],
   "source": [
    "load_model(model,'./models/gru_subset_0.1_loss_625.pth')\n",
    "model.embedding.weight.requires_grad = True"
   ]
  },
  {
   "cell_type": "code",
   "execution_count": 136,
   "metadata": {},
   "outputs": [
    {
     "data": {
      "application/vnd.jupyter.widget-view+json": {
       "model_id": "7297f520950e49ea8764e64bdbf34f24",
       "version_major": 2,
       "version_minor": 0
      },
      "text/plain": [
       "HBox(children=(FloatProgress(value=0.0, max=1560.0), HTML(value='')))"
      ]
     },
     "metadata": {},
     "output_type": "display_data"
    },
    {
     "name": "stdout",
     "output_type": "stream",
     "text": [
      "train loss 0.5903 val loss 0.6700 and val accuracy 0.6619\n",
      "./models/gru_subset_0.01_loss_670.pth\n",
      "train loss 0.5876 val loss 0.6604 and val accuracy 0.6685\n",
      "./models/gru_subset_0.01_loss_660.pth\n",
      "train loss 0.5870 val loss 0.6585 and val accuracy 0.6693\n",
      "./models/gru_subset_0.01_loss_658.pth\n",
      "train loss 0.5861 val loss 0.6638 and val accuracy 0.6656\n",
      "train loss 0.5861 val loss 0.6513 and val accuracy 0.6747\n",
      "./models/gru_subset_0.01_loss_651.pth\n",
      "train loss 0.5851 val loss 0.6475 and val accuracy 0.6772\n",
      "./models/gru_subset_0.01_loss_647.pth\n",
      "train loss 0.5845 val loss 0.6486 and val accuracy 0.6765\n",
      "train loss 0.5840 val loss 0.6618 and val accuracy 0.6659\n",
      "train loss 0.5846 val loss 0.6500 and val accuracy 0.6748\n",
      "train loss 0.5828 val loss 0.6467 and val accuracy 0.6773\n",
      "./models/gru_subset_0.01_loss_647.pth\n",
      "train loss 0.5829 val loss 0.6436 and val accuracy 0.6796\n",
      "./models/gru_subset_0.01_loss_644.pth\n",
      "train loss 0.5828 val loss 0.6404 and val accuracy 0.6826\n",
      "./models/gru_subset_0.01_loss_640.pth\n",
      "train loss 0.5822 val loss 0.6471 and val accuracy 0.6768\n",
      "train loss 0.5817 val loss 0.6404 and val accuracy 0.6822\n",
      "./models/gru_subset_0.01_loss_640.pth\n",
      "train loss 0.5813 val loss 0.6464 and val accuracy 0.6774\n",
      "train loss 0.5816 val loss 0.6401 and val accuracy 0.6821\n",
      "./models/gru_subset_0.01_loss_640.pth\n",
      "train loss 0.5810 val loss 0.6447 and val accuracy 0.6786\n",
      "train loss 0.5803 val loss 0.6455 and val accuracy 0.6780\n",
      "train loss 0.5800 val loss 0.6426 and val accuracy 0.6805\n",
      "train loss 0.5794 val loss 0.6509 and val accuracy 0.6740\n",
      "train loss 0.5794 val loss 0.6382 and val accuracy 0.6840\n",
      "./models/gru_subset_0.01_loss_638.pth\n",
      "train loss 0.5786 val loss 0.6413 and val accuracy 0.6802\n",
      "train loss 0.5784 val loss 0.6430 and val accuracy 0.6789\n",
      "train loss 0.5789 val loss 0.6289 and val accuracy 0.6914\n",
      "./models/gru_subset_0.01_loss_629.pth\n",
      "train loss 0.5791 val loss 0.6264 and val accuracy 0.6929\n",
      "./models/gru_subset_0.01_loss_626.pth\n",
      "train loss 0.5782 val loss 0.6424 and val accuracy 0.6801\n",
      "train loss 0.5781 val loss 0.6238 and val accuracy 0.6953\n",
      "./models/gru_subset_0.01_loss_624.pth\n",
      "train loss 0.5786 val loss 0.6301 and val accuracy 0.6890\n",
      "train loss 0.5778 val loss 0.6398 and val accuracy 0.6816\n",
      "train loss 0.5774 val loss 0.6406 and val accuracy 0.6820\n"
     ]
    }
   ],
   "source": [
    "train_epochs(model, optimizer, train_dl, valid_dl, max_lr=0.01, epochs=30)"
   ]
  },
  {
   "cell_type": "code",
   "execution_count": 90,
   "metadata": {},
   "outputs": [],
   "source": [
    "load_model(model,'./models/gru_loss_615.pth')"
   ]
  },
  {
   "cell_type": "markdown",
   "metadata": {},
   "source": [
    "# Predict and submit"
   ]
  },
  {
   "cell_type": "markdown",
   "metadata": {},
   "source": [
    "## Predict y_test"
   ]
  },
  {
   "cell_type": "code",
   "execution_count": 91,
   "metadata": {},
   "outputs": [],
   "source": [
    "def collate_fn_test(data):\n",
    "    # Sort a data list by sentences length (descending order).\n",
    "    data.sort(key=lambda x: max(len(x[0]),len(x[1])), reverse=True) # the max of left and right sentence length\n",
    "    sentences=data\n",
    "    \n",
    "    # Merge sentences\n",
    "    lengths = [max(len(left), len(right)) for left, right in sentences]\n",
    "   \n",
    "    sents_left = torch.zeros(len(sentences), max(lengths)).long()\n",
    "    sents_right = torch.zeros(len(sentences), max(lengths)).long()\n",
    "    \n",
    "    for i, s in enumerate(sentences):\n",
    "        end = len(s[0])\n",
    "        sents_left[i, :end] = torch.Tensor(s[0][:end])        \n",
    "    \n",
    "    for i, s in enumerate(sentences):\n",
    "        end = len(s[1])\n",
    "        sents_right[i, :end] = torch.Tensor(s[1][:end])   \n",
    "    \n",
    "    return sents_left, sents_right, torch.Tensor(lengths) "
   ]
  },
  {
   "cell_type": "code",
   "execution_count": 92,
   "metadata": {},
   "outputs": [],
   "source": [
    "def predict(data_loader, model):\n",
    "    '''\n",
    "    Predict keypoints\n",
    "    Args:\n",
    "        data_loader (DataLoader): DataLoader for Dataset\n",
    "        model (nn.Module): trained model for prediction.\n",
    "    Return:\n",
    "        predictions (array-like): keypoints in float (no. of images x keypoints).\n",
    "    '''\n",
    "    \n",
    "    model.eval() # prep model for evaluation\n",
    "\n",
    "    with torch.no_grad():\n",
    "        for i, batch in enumerate(data_loader):\n",
    "            output = model(batch[0].long().cuda(),batch[1].long().cuda(),batch[2].long().cuda()).cpu().detach().numpy()\n",
    "            if i == 0:\n",
    "                predictions = output\n",
    "            else:\n",
    "                predictions = np.vstack((predictions, output))\n",
    "    \n",
    "    return predictions"
   ]
  },
  {
   "cell_type": "code",
   "execution_count": 93,
   "metadata": {},
   "outputs": [],
   "source": [
    "X_test = df_test[['question1','question2']].applymap(lambda  x: clean_str(str(x))).values"
   ]
  },
  {
   "cell_type": "code",
   "execution_count": 94,
   "metadata": {},
   "outputs": [
    {
     "data": {
      "text/plain": [
       "array([[0.15257895, 0.30734152, 0.6549154 , 0.71794295, 0.38485667],\n",
       "       [0.10686526, 0.5890985 , 0.65375394, 0.6788295 , 0.21748944],\n",
       "       [0.07896127, 0.09544353, 0.49780664, 0.7442379 , 0.41149992]],\n",
       "      dtype=float32)"
      ]
     },
     "execution_count": 94,
     "metadata": {},
     "output_type": "execute_result"
    }
   ],
   "source": [
    "test_ds_try = QuoraDataset(X_test[:15],np.ones(len(X_test))[:15],False) # train=False\n",
    "test_dl_try = DataLoader(test_ds_try, batch_size=5, collate_fn=collate_fn_test)\n",
    "y_pred_try = predict(test_dl_try,model)\n",
    "y_pred_try"
   ]
  },
  {
   "cell_type": "code",
   "execution_count": 95,
   "metadata": {},
   "outputs": [],
   "source": [
    "test_ds = QuoraDataset(X_test,np.ones(len(X_test)),False) # train=False\n",
    "test_dl = DataLoader(test_ds, batch_size=45996, collate_fn=collate_fn_test)"
   ]
  },
  {
   "cell_type": "code",
   "execution_count": 96,
   "metadata": {},
   "outputs": [
    {
     "data": {
      "text/plain": [
       "array([[9.6313171e-02, 3.2273658e-02, 9.5201237e-03, ..., 5.6876321e-03,\n",
       "        1.0000000e+00, 7.8445245e-03],\n",
       "       [2.1500347e-02, 3.3600889e-02, 7.4507609e-02, ..., 1.7267510e-02,\n",
       "        3.9516229e-02, 8.3519109e-03],\n",
       "       [6.0159652e-03, 1.0827075e-02, 1.5820093e-02, ..., 6.9028310e-02,\n",
       "        5.3718884e-02, 7.0092734e-04],\n",
       "       ...,\n",
       "       [7.8361798e-03, 3.6350276e-02, 2.8158775e-02, ..., 2.0014806e-02,\n",
       "        1.1945239e-02, 3.1880863e-04],\n",
       "       [7.4545760e-03, 3.7449658e-02, 4.3886233e-02, ..., 1.1586647e-02,\n",
       "        2.1522038e-02, 3.9516229e-02],\n",
       "       [3.7218373e-02, 2.4405543e-02, 2.5144551e-02, ..., 1.0000000e+00,\n",
       "        1.0724393e-02, 2.2823377e-02]], dtype=float32)"
      ]
     },
     "execution_count": 96,
     "metadata": {},
     "output_type": "execute_result"
    }
   ],
   "source": [
    "y_pred = predict(test_dl,model)\n",
    "y_pred"
   ]
  },
  {
   "cell_type": "code",
   "execution_count": 97,
   "metadata": {},
   "outputs": [
    {
     "data": {
      "text/html": [
       "<div>\n",
       "<style scoped>\n",
       "    .dataframe tbody tr th:only-of-type {\n",
       "        vertical-align: middle;\n",
       "    }\n",
       "\n",
       "    .dataframe tbody tr th {\n",
       "        vertical-align: top;\n",
       "    }\n",
       "\n",
       "    .dataframe thead th {\n",
       "        text-align: right;\n",
       "    }\n",
       "</style>\n",
       "<table border=\"1\" class=\"dataframe\">\n",
       "  <thead>\n",
       "    <tr style=\"text-align: right;\">\n",
       "      <th></th>\n",
       "      <th>test_id</th>\n",
       "      <th>is_duplicate</th>\n",
       "    </tr>\n",
       "  </thead>\n",
       "  <tbody>\n",
       "    <tr>\n",
       "      <th>0</th>\n",
       "      <td>0</td>\n",
       "      <td>0.096313</td>\n",
       "    </tr>\n",
       "    <tr>\n",
       "      <th>1</th>\n",
       "      <td>1</td>\n",
       "      <td>0.032274</td>\n",
       "    </tr>\n",
       "    <tr>\n",
       "      <th>2</th>\n",
       "      <td>2</td>\n",
       "      <td>0.009520</td>\n",
       "    </tr>\n",
       "    <tr>\n",
       "      <th>3</th>\n",
       "      <td>3</td>\n",
       "      <td>0.025636</td>\n",
       "    </tr>\n",
       "    <tr>\n",
       "      <th>4</th>\n",
       "      <td>4</td>\n",
       "      <td>0.014776</td>\n",
       "    </tr>\n",
       "  </tbody>\n",
       "</table>\n",
       "</div>"
      ],
      "text/plain": [
       "   test_id  is_duplicate\n",
       "0        0      0.096313\n",
       "1        1      0.032274\n",
       "2        2      0.009520\n",
       "3        3      0.025636\n",
       "4        4      0.014776"
      ]
     },
     "execution_count": 97,
     "metadata": {},
     "output_type": "execute_result"
    }
   ],
   "source": [
    "sub = pd.DataFrame({'test_id': df_test['test_id'], 'is_duplicate': y_pred.reshape(-1)})\n",
    "sub.head()"
   ]
  },
  {
   "cell_type": "code",
   "execution_count": 101,
   "metadata": {},
   "outputs": [
    {
     "data": {
      "text/plain": [
       "<matplotlib.axes._subplots.AxesSubplot at 0x7fe598a5f190>"
      ]
     },
     "execution_count": 101,
     "metadata": {},
     "output_type": "execute_result"
    },
    {
     "data": {
      "image/png": "[encoded data removed]",
      "text/plain": [
       "<Figure size 432x288 with 1 Axes>"
      ]
     },
     "metadata": {
      "needs_background": "light"
     },
     "output_type": "display_data"
    }
   ],
   "source": [
    "sns.distplot(sub.is_duplicate)"
   ]
  },
  {
   "cell_type": "code",
   "execution_count": 98,
   "metadata": {},
   "outputs": [
    {
     "data": {
      "text/plain": [
       "0.43699362874031067"
      ]
     },
     "execution_count": 98,
     "metadata": {},
     "output_type": "execute_result"
    }
   ],
   "source": [
    "sub.is_duplicate.mean()"
   ]
  },
  {
   "cell_type": "code",
   "execution_count": 86,
   "metadata": {},
   "outputs": [],
   "source": [
    "# sample_submission = pd.read_csv(data_dir/'sample_submission.csv')\n",
    "# sample_submission.head()"
   ]
  },
  {
   "cell_type": "markdown",
   "metadata": {},
   "source": [
    "## Submit to Kaggle"
   ]
  },
  {
   "cell_type": "code",
   "execution_count": 99,
   "metadata": {},
   "outputs": [],
   "source": [
    "sub.to_csv('GRU_MSE_LOGLOSS_615.csv', index=False)\n",
    "# score 0.74"
   ]
  },
  {
   "cell_type": "code",
   "execution_count": 100,
   "metadata": {},
   "outputs": [
    {
     "name": "stdout",
     "output_type": "stream",
     "text": [
      "100%|██████████████████████████████████████| 40.6M/40.6M [00:02<00:00, 19.5MB/s]\n",
      "Successfully submitted to Quora Question Pairs"
     ]
    }
   ],
   "source": [
    "! kaggle competitions submit -c Quora-Question-Pairs -f GRU_MSE_LOGLOSS_615.csv -m \"GRU_MSE_LOGLOSS_615\""
   ]
  }
 ],
 "metadata": {
  "kernelspec": {
   "display_name": "Python 3",
   "language": "python",
   "name": "python3"
  },
  "language_info": {
   "codemirror_mode": {
    "name": "ipython",
    "version": 3
   },
   "file_extension": ".py",
   "mimetype": "text/x-python",
   "name": "python",
   "nbconvert_exporter": "python",
   "pygments_lexer": "ipython3",
   "version": "3.7.6"
  },
  "toc": {
   "base_numbering": 1,
   "nav_menu": {},
   "number_sections": true,
   "sideBar": true,
   "skip_h1_title": false,
   "title_cell": "Table of Contents",
   "title_sidebar": "Contents",
   "toc_cell": true,
   "toc_position": {},
   "toc_section_display": true,
   "toc_window_display": false
  }
 },
 "nbformat": 4,
 "nbformat_minor": 4
}
